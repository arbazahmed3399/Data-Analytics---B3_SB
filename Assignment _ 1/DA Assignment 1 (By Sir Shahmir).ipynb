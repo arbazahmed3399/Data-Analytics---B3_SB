{
 "cells": [
  {
   "cell_type": "markdown",
   "id": "844bd2c4-5c8a-4470-bb33-a6b5bc358d2a",
   "metadata": {},
   "source": [
    "1. Write a program that takes two numbers (a = 15 , b = 4) and prints their:\n",
    "\n",
    "\n",
    "- Sum\n",
    "\n",
    "- Difference\n",
    "\n",
    "- Product\n",
    "\n",
    "- Division\n",
    "\n",
    "- Floor Division\n",
    "\n",
    "- Modulus\n"
   ]
  },
  {
   "cell_type": "code",
   "execution_count": 3,
   "id": "917d260f-dfbc-47c8-9115-307cb08613f6",
   "metadata": {},
   "outputs": [],
   "source": [
    "a=15\n",
    "b=4"
   ]
  },
  {
   "cell_type": "code",
   "execution_count": 4,
   "id": "69775323-b1f4-4d6b-b01a-d97f2bdd0b8b",
   "metadata": {},
   "outputs": [
    {
     "name": "stdout",
     "output_type": "stream",
     "text": [
      "19\n"
     ]
    }
   ],
   "source": [
    "print (a+b)"
   ]
  },
  {
   "cell_type": "code",
   "execution_count": 5,
   "id": "913c560c-2686-48a2-9c5c-967e3bdf5263",
   "metadata": {},
   "outputs": [
    {
     "name": "stdout",
     "output_type": "stream",
     "text": [
      "11\n"
     ]
    }
   ],
   "source": [
    "print(a-b)"
   ]
  },
  {
   "cell_type": "code",
   "execution_count": 6,
   "id": "19f6caf3-1e19-47d5-914a-923fe140e357",
   "metadata": {},
   "outputs": [
    {
     "name": "stdout",
     "output_type": "stream",
     "text": [
      "60\n"
     ]
    }
   ],
   "source": [
    "print(a*b)"
   ]
  },
  {
   "cell_type": "code",
   "execution_count": 7,
   "id": "c0028cd0-1098-49ee-b8c5-31c8bb48fb43",
   "metadata": {},
   "outputs": [
    {
     "name": "stdout",
     "output_type": "stream",
     "text": [
      "3.75\n"
     ]
    }
   ],
   "source": [
    "print(a/b)"
   ]
  },
  {
   "cell_type": "code",
   "execution_count": 8,
   "id": "0a8cd82b-4158-4df3-9675-d9e1c283f732",
   "metadata": {},
   "outputs": [
    {
     "name": "stdout",
     "output_type": "stream",
     "text": [
      "3\n"
     ]
    }
   ],
   "source": [
    "print(a//b)"
   ]
  },
  {
   "cell_type": "code",
   "execution_count": 9,
   "id": "edff6475-87e7-4241-923f-d467550a9a20",
   "metadata": {},
   "outputs": [
    {
     "name": "stdout",
     "output_type": "stream",
     "text": [
      "3\n"
     ]
    }
   ],
   "source": [
    "print(a%b)"
   ]
  },
  {
   "cell_type": "markdown",
   "id": "9f50de76-4707-4eb3-b50f-284f2b7d9f8e",
   "metadata": {},
   "source": [
    "2)  Convert the following: (num1 = 10, num2 = 5.6, num3 = 4.43)\n",
    "Integer to float\n",
    "\n",
    "Float to integer\n",
    "\n",
    "Float to String"
   ]
  },
  {
   "cell_type": "code",
   "execution_count": 10,
   "id": "bab83550-8fb8-41f7-af37-6aa17634e707",
   "metadata": {},
   "outputs": [],
   "source": [
    "num1=10\n",
    "num2=5.6\n",
    "num3=4.43"
   ]
  },
  {
   "cell_type": "code",
   "execution_count": 12,
   "id": "598fcff3-a2ab-4e5c-9007-fcba776ebdb8",
   "metadata": {},
   "outputs": [
    {
     "data": {
      "text/plain": [
       "10.0"
      ]
     },
     "execution_count": 12,
     "metadata": {},
     "output_type": "execute_result"
    }
   ],
   "source": [
    "#Integer to Float\n",
    "float(num1)"
   ]
  },
  {
   "cell_type": "code",
   "execution_count": 13,
   "id": "f3f0f1ba-8dc5-45bf-ba6f-23e0cc222f39",
   "metadata": {},
   "outputs": [
    {
     "data": {
      "text/plain": [
       "5"
      ]
     },
     "execution_count": 13,
     "metadata": {},
     "output_type": "execute_result"
    }
   ],
   "source": [
    "#Float to Integer\n",
    "int(num2)"
   ]
  },
  {
   "cell_type": "code",
   "execution_count": 15,
   "id": "fcef1c35-0c7c-45d4-bb6c-3fa9676d7d90",
   "metadata": {},
   "outputs": [
    {
     "data": {
      "text/plain": [
       "'4.43'"
      ]
     },
     "execution_count": 15,
     "metadata": {},
     "output_type": "execute_result"
    }
   ],
   "source": [
    "#Float to String\n",
    "str(num3)"
   ]
  },
  {
   "cell_type": "markdown",
   "id": "fdd0c58f-2016-467c-8daa-9a4891f22afb",
   "metadata": {},
   "source": [
    "3. fruits = [\"apple\", \"banana\", \"cherry\", \"coconut\", \"pineapple\", \"mango\", \"orange\"]\n",
    "\n",
    "Print below using indexing:\n",
    "\n",
    "- The first fruit\n",
    "\n",
    "- The last fruit (negative indexing)\n",
    "\n",
    "- The fourth fruit"
   ]
  },
  {
   "cell_type": "code",
   "execution_count": 16,
   "id": "afdf05f6-90d7-4d30-9c1d-a0ec18878fa8",
   "metadata": {},
   "outputs": [],
   "source": [
    "fruits=[\"apple\",\"banana\",\"cherry\",\"coconut\",\"pineapple\",\"mango\",\"orange\"]"
   ]
  },
  {
   "cell_type": "code",
   "execution_count": 17,
   "id": "7036967f-6785-434f-815b-6e209d9596e3",
   "metadata": {},
   "outputs": [
    {
     "data": {
      "text/plain": [
       "['apple', 'banana', 'cherry', 'coconut', 'pineapple', 'mango', 'orange']"
      ]
     },
     "execution_count": 17,
     "metadata": {},
     "output_type": "execute_result"
    }
   ],
   "source": [
    "fruits"
   ]
  },
  {
   "cell_type": "code",
   "execution_count": 20,
   "id": "d5827012-f055-417f-ba75-327445949eb4",
   "metadata": {},
   "outputs": [
    {
     "data": {
      "text/plain": [
       "'apple'"
      ]
     },
     "execution_count": 20,
     "metadata": {},
     "output_type": "execute_result"
    }
   ],
   "source": [
    "fruits[0]"
   ]
  },
  {
   "cell_type": "code",
   "execution_count": 22,
   "id": "2d0ef302-e1e8-4280-90c6-a10f4b12005e",
   "metadata": {},
   "outputs": [
    {
     "data": {
      "text/plain": [
       "'orange'"
      ]
     },
     "execution_count": 22,
     "metadata": {},
     "output_type": "execute_result"
    }
   ],
   "source": [
    "fruits[-1]"
   ]
  },
  {
   "cell_type": "code",
   "execution_count": 23,
   "id": "63dbc156-1b17-4403-ba7f-423cc9015e40",
   "metadata": {},
   "outputs": [
    {
     "data": {
      "text/plain": [
       "'pineapple'"
      ]
     },
     "execution_count": 23,
     "metadata": {},
     "output_type": "execute_result"
    }
   ],
   "source": [
    "fruits[4]"
   ]
  },
  {
   "cell_type": "markdown",
   "id": "9037b048-1215-4e86-955e-6c0d2b098ee5",
   "metadata": {},
   "source": [
    "4. List Slicing\n",
    "\n",
    "numbers = [10, 20, 30, 40, 50]\n",
    "\n",
    "Print:\n",
    "\n",
    "- First three elements\n",
    "\n",
    "- Last two elements\n",
    "\n",
    "- Print all elements except the first one\n",
    "\n",
    "- Print all elements except the last one\n",
    "\n",
    "- Print the list in reverse using slicing\n",
    "\n",
    "-  Print every second element"
   ]
  },
  {
   "cell_type": "code",
   "execution_count": 24,
   "id": "64113e02-405c-427d-81ed-b7b90185c688",
   "metadata": {},
   "outputs": [],
   "source": [
    "numbers=[10,20,30,40,50]"
   ]
  },
  {
   "cell_type": "code",
   "execution_count": 25,
   "id": "d725e187-be60-498e-bea1-8461561947a9",
   "metadata": {},
   "outputs": [
    {
     "data": {
      "text/plain": [
       "[10, 20, 30, 40, 50]"
      ]
     },
     "execution_count": 25,
     "metadata": {},
     "output_type": "execute_result"
    }
   ],
   "source": [
    "numbers"
   ]
  },
  {
   "cell_type": "code",
   "execution_count": 26,
   "id": "843c8167-4a2d-4858-9308-d10a08f3d1d1",
   "metadata": {},
   "outputs": [
    {
     "data": {
      "text/plain": [
       "[10, 20, 30]"
      ]
     },
     "execution_count": 26,
     "metadata": {},
     "output_type": "execute_result"
    }
   ],
   "source": [
    "numbers[0:3]"
   ]
  },
  {
   "cell_type": "code",
   "execution_count": 29,
   "id": "c32787d0-aff1-4dc2-a8dc-2509d5de3155",
   "metadata": {},
   "outputs": [
    {
     "data": {
      "text/plain": [
       "[40, 50]"
      ]
     },
     "execution_count": 29,
     "metadata": {},
     "output_type": "execute_result"
    }
   ],
   "source": [
    "numbers[3:5]"
   ]
  },
  {
   "cell_type": "code",
   "execution_count": 35,
   "id": "4f46108d-31d7-4a9a-8487-d08afd435dad",
   "metadata": {},
   "outputs": [
    {
     "data": {
      "text/plain": [
       "[20, 30, 40, 50]"
      ]
     },
     "execution_count": 35,
     "metadata": {},
     "output_type": "execute_result"
    }
   ],
   "source": [
    "numbers[1:5]"
   ]
  },
  {
   "cell_type": "code",
   "execution_count": 36,
   "id": "059d178d-0c3a-4de4-a7ac-20e467adf2ab",
   "metadata": {},
   "outputs": [
    {
     "data": {
      "text/plain": [
       "[10, 20, 30, 40]"
      ]
     },
     "execution_count": 36,
     "metadata": {},
     "output_type": "execute_result"
    }
   ],
   "source": [
    "numbers[0:4]"
   ]
  },
  {
   "cell_type": "markdown",
   "id": "2a75da06-56d8-4bc8-9043-2fc21cfb3bee",
   "metadata": {},
   "source": [
    "5. Add the number 10 to the end of the list using method.\n",
    "\n",
    "nums = [1, 2, 3]\n"
   ]
  },
  {
   "cell_type": "code",
   "execution_count": 1,
   "id": "0573eadf-7183-46e3-9f29-91f69e9a5e00",
   "metadata": {},
   "outputs": [],
   "source": [
    "num=[1,2,3]"
   ]
  },
  {
   "cell_type": "code",
   "execution_count": 2,
   "id": "5f6e5f73-65ab-4448-aed7-9e7c09a63826",
   "metadata": {},
   "outputs": [
    {
     "data": {
      "text/plain": [
       "[1, 2, 3]"
      ]
     },
     "execution_count": 2,
     "metadata": {},
     "output_type": "execute_result"
    }
   ],
   "source": [
    "num"
   ]
  },
  {
   "cell_type": "code",
   "execution_count": 3,
   "id": "94f5cec4-431d-4b91-a1b4-314e968d5880",
   "metadata": {},
   "outputs": [],
   "source": [
    "num.append(10)"
   ]
  },
  {
   "cell_type": "code",
   "execution_count": 4,
   "id": "cb191871-4577-41ed-bc15-98615e92caab",
   "metadata": {},
   "outputs": [
    {
     "data": {
      "text/plain": [
       "[1, 2, 3, 10]"
      ]
     },
     "execution_count": 4,
     "metadata": {},
     "output_type": "execute_result"
    }
   ],
   "source": [
    "num"
   ]
  },
  {
   "cell_type": "markdown",
   "id": "6be49622-c88d-4087-bdc1-7b89f55b8692",
   "metadata": {},
   "source": [
    "6. Insert the number 99 at index 1 using method.\n",
    "\n",
    "nums = [1, 2, 3]"
   ]
  },
  {
   "cell_type": "code",
   "execution_count": 5,
   "id": "0b6508c3-1f78-45c1-9dd3-42417318ed86",
   "metadata": {},
   "outputs": [],
   "source": [
    "nums=[1,2,3]"
   ]
  },
  {
   "cell_type": "code",
   "execution_count": 7,
   "id": "412938c2-fd7e-4b10-bd4d-9d6f4d65887f",
   "metadata": {},
   "outputs": [
    {
     "data": {
      "text/plain": [
       "[1, 2, 3]"
      ]
     },
     "execution_count": 7,
     "metadata": {},
     "output_type": "execute_result"
    }
   ],
   "source": [
    "nums"
   ]
  },
  {
   "cell_type": "code",
   "execution_count": 10,
   "id": "e53dbf12-a19e-4400-afac-920516d60f55",
   "metadata": {},
   "outputs": [],
   "source": [
    "nums.insert(0,99)"
   ]
  },
  {
   "cell_type": "code",
   "execution_count": 12,
   "id": "a6c6d6a2-4bcc-40bb-901e-e33a1aeb6c29",
   "metadata": {},
   "outputs": [
    {
     "data": {
      "text/plain": [
       "[99, 1, 2, 3]"
      ]
     },
     "execution_count": 12,
     "metadata": {},
     "output_type": "execute_result"
    }
   ],
   "source": [
    "nums"
   ]
  },
  {
   "cell_type": "markdown",
   "id": "2e81d91b-7f73-4b35-8396-7f1a61024914",
   "metadata": {},
   "source": [
    "7.  Add the elements of another list [4, 5] to the original list using method\n",
    "\n",
    "nums = [1, 2, 3]"
   ]
  },
  {
   "cell_type": "code",
   "execution_count": 14,
   "id": "271d4d9d-bfd9-4765-b4b7-1a65089a646d",
   "metadata": {},
   "outputs": [],
   "source": [
    "nums=[1,2,3]"
   ]
  },
  {
   "cell_type": "code",
   "execution_count": 15,
   "id": "f6bedcc3-4f69-4ee6-a2f5-596fe5c0157e",
   "metadata": {},
   "outputs": [
    {
     "data": {
      "text/plain": [
       "[1, 2, 3]"
      ]
     },
     "execution_count": 15,
     "metadata": {},
     "output_type": "execute_result"
    }
   ],
   "source": [
    "nums"
   ]
  },
  {
   "cell_type": "code",
   "execution_count": 16,
   "id": "68bb676d-8d74-472c-9875-4d70ddd94be4",
   "metadata": {},
   "outputs": [],
   "source": [
    "nums2= [4,5]"
   ]
  },
  {
   "cell_type": "code",
   "execution_count": 17,
   "id": "0ce06d32-4c68-41be-8e59-8e6caf166427",
   "metadata": {},
   "outputs": [
    {
     "data": {
      "text/plain": [
       "[4, 5]"
      ]
     },
     "execution_count": 17,
     "metadata": {},
     "output_type": "execute_result"
    }
   ],
   "source": [
    "nums2"
   ]
  },
  {
   "cell_type": "code",
   "execution_count": 18,
   "id": "2fbd35bc-7f5d-47c9-92b5-164fe65d0f95",
   "metadata": {},
   "outputs": [],
   "source": [
    "nums.extend(nums2)"
   ]
  },
  {
   "cell_type": "code",
   "execution_count": 19,
   "id": "5c91ccd3-29f5-4951-93b9-4e69016960f2",
   "metadata": {},
   "outputs": [
    {
     "data": {
      "text/plain": [
       "[1, 2, 3, 4, 5]"
      ]
     },
     "execution_count": 19,
     "metadata": {},
     "output_type": "execute_result"
    }
   ],
   "source": [
    "nums"
   ]
  },
  {
   "cell_type": "markdown",
   "id": "7c1f5de9-2ffc-45be-9527-4b90671aca7d",
   "metadata": {},
   "source": [
    "8.  Sort the list in ascending order using method\n",
    "\n",
    "nums = [4, 1, 3, 2]"
   ]
  },
  {
   "cell_type": "code",
   "execution_count": 20,
   "id": "184e2eec-22a2-4ace-b895-3e163fc73624",
   "metadata": {},
   "outputs": [],
   "source": [
    "nums=[4,1,3,2]"
   ]
  },
  {
   "cell_type": "code",
   "execution_count": 21,
   "id": "4b570616-f049-4194-8d1f-3a3f9f7e2397",
   "metadata": {},
   "outputs": [
    {
     "data": {
      "text/plain": [
       "[4, 1, 3, 2]"
      ]
     },
     "execution_count": 21,
     "metadata": {},
     "output_type": "execute_result"
    }
   ],
   "source": [
    "nums"
   ]
  },
  {
   "cell_type": "code",
   "execution_count": 22,
   "id": "ef675e0b-53e5-4530-adc8-c845be7fd434",
   "metadata": {},
   "outputs": [],
   "source": [
    "nums.sort()"
   ]
  },
  {
   "cell_type": "code",
   "execution_count": 23,
   "id": "6c1d36fa-dd4e-4cd3-8da4-d21ab3e4f26b",
   "metadata": {},
   "outputs": [
    {
     "data": {
      "text/plain": [
       "[1, 2, 3, 4]"
      ]
     },
     "execution_count": 23,
     "metadata": {},
     "output_type": "execute_result"
    }
   ],
   "source": [
    "nums"
   ]
  },
  {
   "cell_type": "markdown",
   "id": "b8dd6d2b-7186-4dbf-ae47-c7ee756a6912",
   "metadata": {},
   "source": [
    "9. A customer orders several food items. Add the items to a list and then:\n",
    "\n",
    "order = [\"biryani\",\"burger\", \"fries\", \"coke\"]\n",
    "\n",
    "- Add a new item \"ice cream\" using append()\n",
    "\n",
    "- Remove an item \"biryani\" using remove()\n",
    "\n",
    "- Show the final order"
   ]
  },
  {
   "cell_type": "code",
   "execution_count": 24,
   "id": "871535cb-3435-4f80-8751-43aa74314756",
   "metadata": {},
   "outputs": [],
   "source": [
    "order=[\"biryani\",\"burger\",\"fries\",\"coke\"]"
   ]
  },
  {
   "cell_type": "code",
   "execution_count": 26,
   "id": "a1586111-ab56-4ae6-afcd-605aa44101e4",
   "metadata": {},
   "outputs": [
    {
     "data": {
      "text/plain": [
       "['biryani', 'burger', 'fries', 'coke']"
      ]
     },
     "execution_count": 26,
     "metadata": {},
     "output_type": "execute_result"
    }
   ],
   "source": [
    "order"
   ]
  },
  {
   "cell_type": "code",
   "execution_count": 27,
   "id": "24f22801-d49f-42bb-a87b-e08683adfd14",
   "metadata": {},
   "outputs": [],
   "source": [
    "order.append(\"ice cream\")"
   ]
  },
  {
   "cell_type": "code",
   "execution_count": 28,
   "id": "e16e603e-6556-49f5-a88c-dc9a2239b7dd",
   "metadata": {},
   "outputs": [
    {
     "data": {
      "text/plain": [
       "['biryani', 'burger', 'fries', 'coke', 'ice cream']"
      ]
     },
     "execution_count": 28,
     "metadata": {},
     "output_type": "execute_result"
    }
   ],
   "source": [
    "order"
   ]
  },
  {
   "cell_type": "code",
   "execution_count": 29,
   "id": "f22eb1db-4c8f-4ef0-a0f8-488d0e2a51df",
   "metadata": {},
   "outputs": [],
   "source": [
    "order.remove(\"biryani\")"
   ]
  },
  {
   "cell_type": "code",
   "execution_count": 30,
   "id": "5ea5f340-ab02-409e-bf26-970e6d11589c",
   "metadata": {},
   "outputs": [
    {
     "data": {
      "text/plain": [
       "['burger', 'fries', 'coke', 'ice cream']"
      ]
     },
     "execution_count": 30,
     "metadata": {},
     "output_type": "execute_result"
    }
   ],
   "source": [
    "order"
   ]
  },
  {
   "cell_type": "markdown",
   "id": "20f566b1-9b67-46d3-a6ce-23fe64c5a6f8",
   "metadata": {},
   "source": [
    "10. Track passengers on a bus:\n",
    "\n",
    "passengers = [\"Ali\", \"Zara\", \"Ahmed\"]\n",
    "\n",
    "\n",
    "- Insert a new passenger \"Sara\" at position 2\n",
    "\n",
    "- Remove passesnger who got off \"Zara\"\n",
    "\n",
    "- Reverse the order to show who entered first"
   ]
  },
  {
   "cell_type": "code",
   "execution_count": 31,
   "id": "895a5307-bf6f-4c33-a3e5-b55ca535875f",
   "metadata": {},
   "outputs": [],
   "source": [
    "passengers= [\"Ali\",\"Zara\",\"Ahmed\"]"
   ]
  },
  {
   "cell_type": "code",
   "execution_count": 45,
   "id": "378df783-ded5-4a50-92d8-d9ace006e4ab",
   "metadata": {},
   "outputs": [
    {
     "data": {
      "text/plain": [
       "['Ali', 'Zara', 'Ahmed']"
      ]
     },
     "execution_count": 45,
     "metadata": {},
     "output_type": "execute_result"
    }
   ],
   "source": [
    "passengers"
   ]
  },
  {
   "cell_type": "code",
   "execution_count": 46,
   "id": "e9968b16-0ebd-449c-b597-cebc5d1a9609",
   "metadata": {},
   "outputs": [],
   "source": [
    "passengers.insert(2, \"Sara\")"
   ]
  },
  {
   "cell_type": "code",
   "execution_count": 47,
   "id": "55ceb21f-91a3-4821-9679-02e37abf1d5e",
   "metadata": {},
   "outputs": [
    {
     "data": {
      "text/plain": [
       "['Ali', 'Zara', 'Sara', 'Ahmed']"
      ]
     },
     "execution_count": 47,
     "metadata": {},
     "output_type": "execute_result"
    }
   ],
   "source": [
    "passengers"
   ]
  },
  {
   "cell_type": "code",
   "execution_count": 48,
   "id": "39a4b8a0-b35e-4de7-b094-e88ab12e6ac2",
   "metadata": {},
   "outputs": [],
   "source": [
    "passengers.remove(\"Zara\")"
   ]
  },
  {
   "cell_type": "code",
   "execution_count": 49,
   "id": "ee925796-fafb-42a9-b533-783dd0e69395",
   "metadata": {},
   "outputs": [
    {
     "data": {
      "text/plain": [
       "['Ali', 'Sara', 'Ahmed']"
      ]
     },
     "execution_count": 49,
     "metadata": {},
     "output_type": "execute_result"
    }
   ],
   "source": [
    "passengers"
   ]
  },
  {
   "cell_type": "code",
   "execution_count": 50,
   "id": "2509c95b-f5ea-46b5-a80b-6f3fc2b2535e",
   "metadata": {},
   "outputs": [],
   "source": [
    "passengers.reverse()"
   ]
  },
  {
   "cell_type": "code",
   "execution_count": 52,
   "id": "9da10222-0353-4ebd-a38e-0032ffd7d5a4",
   "metadata": {},
   "outputs": [
    {
     "name": "stdout",
     "output_type": "stream",
     "text": [
      "['Ahmed', 'Sara', 'Ali']\n"
     ]
    }
   ],
   "source": [
    "print(passengers)"
   ]
  },
  {
   "cell_type": "code",
   "execution_count": null,
   "id": "19541566-d6cc-4f6e-b091-d2d406ce6fdb",
   "metadata": {},
   "outputs": [],
   "source": []
  }
 ],
 "metadata": {
  "kernelspec": {
   "display_name": "Python 3 (ipykernel)",
   "language": "python",
   "name": "python3"
  },
  "language_info": {
   "codemirror_mode": {
    "name": "ipython",
    "version": 3
   },
   "file_extension": ".py",
   "mimetype": "text/x-python",
   "name": "python",
   "nbconvert_exporter": "python",
   "pygments_lexer": "ipython3",
   "version": "3.12.7"
  }
 },
 "nbformat": 4,
 "nbformat_minor": 5
}
