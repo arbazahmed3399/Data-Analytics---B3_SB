{
 "cells": [
  {
   "cell_type": "code",
   "execution_count": 19,
   "id": "fa5efc92-847a-4fa6-93a0-5b5bf45de7d1",
   "metadata": {},
   "outputs": [
    {
     "data": {
      "text/plain": [
       "['Ali', 'Sara', 'John', 'Maria', 'Ahmed']"
      ]
     },
     "execution_count": 19,
     "metadata": {},
     "output_type": "execute_result"
    }
   ],
   "source": [
    "students = [\"Ali\",\"Sara\",\"John\",\"Maria\",\"Ahmed\"]\n",
    "students"
   ]
  },
  {
   "cell_type": "code",
   "execution_count": 20,
   "id": "a81ebb70-cd35-4cc8-9f3b-bb56e89e4443",
   "metadata": {},
   "outputs": [],
   "source": [
    "students.append(\"Zara\")"
   ]
  },
  {
   "cell_type": "code",
   "execution_count": 21,
   "id": "68281747-5270-43b7-8373-886bee725622",
   "metadata": {},
   "outputs": [
    {
     "data": {
      "text/plain": [
       "['Ali', 'Sara', 'John', 'Maria', 'Ahmed', 'Zara']"
      ]
     },
     "execution_count": 21,
     "metadata": {},
     "output_type": "execute_result"
    }
   ],
   "source": [
    "students"
   ]
  },
  {
   "cell_type": "code",
   "execution_count": 23,
   "id": "0ec6c36b-b0cb-480e-83bd-375dabeebe23",
   "metadata": {},
   "outputs": [],
   "source": [
    "students.insert(1,\"Bilal\")"
   ]
  },
  {
   "cell_type": "code",
   "execution_count": 24,
   "id": "d985d882-f4c3-4f30-b2c0-6f8336cbe5a3",
   "metadata": {},
   "outputs": [
    {
     "data": {
      "text/plain": [
       "['Ali', 'Bilal', 'Sara', 'John', 'Maria', 'Ahmed', 'Zara']"
      ]
     },
     "execution_count": 24,
     "metadata": {},
     "output_type": "execute_result"
    }
   ],
   "source": [
    "students"
   ]
  },
  {
   "cell_type": "code",
   "execution_count": 25,
   "id": "5a62e8c6-1d98-4f6d-8444-d490e164ca31",
   "metadata": {},
   "outputs": [],
   "source": [
    "students.remove(\"John\")"
   ]
  },
  {
   "cell_type": "code",
   "execution_count": 26,
   "id": "ad7233ce-3956-40b2-8e23-7c650e7e8b54",
   "metadata": {},
   "outputs": [
    {
     "data": {
      "text/plain": [
       "['Ali', 'Bilal', 'Sara', 'Maria', 'Ahmed', 'Zara']"
      ]
     },
     "execution_count": 26,
     "metadata": {},
     "output_type": "execute_result"
    }
   ],
   "source": [
    "students"
   ]
  },
  {
   "cell_type": "code",
   "execution_count": 27,
   "id": "e66fb0e2-2367-4691-9555-f9216518bd22",
   "metadata": {},
   "outputs": [
    {
     "data": {
      "text/plain": [
       "'Zara'"
      ]
     },
     "execution_count": 27,
     "metadata": {},
     "output_type": "execute_result"
    }
   ],
   "source": [
    "students.pop()"
   ]
  },
  {
   "cell_type": "code",
   "execution_count": 28,
   "id": "30c8db65-9f56-476c-acab-a73b011d1741",
   "metadata": {},
   "outputs": [
    {
     "data": {
      "text/plain": [
       "['Ali', 'Bilal', 'Sara', 'Maria', 'Ahmed']"
      ]
     },
     "execution_count": 28,
     "metadata": {},
     "output_type": "execute_result"
    }
   ],
   "source": [
    "students"
   ]
  },
  {
   "cell_type": "code",
   "execution_count": null,
   "id": "3a9fa528-6c9e-4787-bb2d-b521539a0aae",
   "metadata": {},
   "outputs": [],
   "source": []
  }
 ],
 "metadata": {
  "kernelspec": {
   "display_name": "Python 3 (ipykernel)",
   "language": "python",
   "name": "python3"
  },
  "language_info": {
   "codemirror_mode": {
    "name": "ipython",
    "version": 3
   },
   "file_extension": ".py",
   "mimetype": "text/x-python",
   "name": "python",
   "nbconvert_exporter": "python",
   "pygments_lexer": "ipython3",
   "version": "3.12.7"
  }
 },
 "nbformat": 4,
 "nbformat_minor": 5
}
