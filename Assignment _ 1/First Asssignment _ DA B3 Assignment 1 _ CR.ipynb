{
 "cells": [
  {
   "cell_type": "markdown",
   "id": "2ca8b743-249d-47cc-b6bc-288c7032a2f2",
   "metadata": {},
   "source": [
    "1. Write a program that takes two numbers (a = 15 , b = 4) and prints their:\n",
    "\n",
    "\n",
    "- Sum\n",
    "\n",
    "- Difference\n",
    "\n",
    "- Product\n",
    "\n",
    "- Division\n",
    "\n",
    "- Floor Division\n",
    "\n",
    "- Modulus\n"
   ]
  },
  {
   "cell_type": "markdown",
   "id": "323137d4-4794-4b18-9c02-0444e4323157",
   "metadata": {},
   "source": [
    "2. Convert the following: \n",
    "(num1 = 10, num2 = 5.6, num3 = 4.43)\n",
    "\n",
    "- Integer to float\n",
    "\n",
    "- Float to integer\n",
    "\n",
    "- Float to String"
   ]
  },
  {
   "cell_type": "markdown",
   "id": "b6a8f851-44c6-4906-a0db-344672319251",
   "metadata": {},
   "source": [
    "3. fruits = [\"apple\", \"banana\", \"cherry\", \"coconut\", \"pineapple\", \"mango\", \"orange\"]\n",
    "\n",
    "Print below using indexing:\n",
    "\n",
    "- The first fruit\n",
    "\n",
    "- The last fruit (negative indexing)\n",
    "\n",
    "- The fourth fruit"
   ]
  },
  {
   "cell_type": "markdown",
   "id": "02eb9ef7-85ad-4036-93c4-5c3f27346ab4",
   "metadata": {},
   "source": [
    "4. List Slicing\n",
    "\n",
    "numbers = [10, 20, 30, 40, 50]\n",
    "\n",
    "Print:\n",
    "\n",
    "- First three elements\n",
    "\n",
    "- Last two elements\n",
    "\n",
    "- Print all elements except the first one\n",
    "\n",
    "- Print all elements except the last one\n",
    "\n",
    "- Print the list in reverse using slicing\n",
    "\n",
    "-  Print every second element"
   ]
  },
  {
   "cell_type": "markdown",
   "id": "ca5024d0-feea-40ec-b36d-aa333ea27760",
   "metadata": {},
   "source": [
    "5. Add the number 10 to the end of the list using method.\n",
    "\n",
    "nums = [1, 2, 3]\n"
   ]
  },
  {
   "cell_type": "markdown",
   "id": "cac03c9e-a77a-4f9f-b148-315ca1a228de",
   "metadata": {},
   "source": [
    "6. Insert the number 99 at index 1 using method.\n",
    "\n",
    "nums = [1, 2, 3]\n"
   ]
  },
  {
   "cell_type": "markdown",
   "id": "755179b2-5aa8-4ba9-bb07-4054b83cf3f0",
   "metadata": {},
   "source": [
    "7.  Add the elements of another list [4, 5] to the original list using method\n",
    "\n",
    "nums = [1, 2, 3]"
   ]
  },
  {
   "cell_type": "markdown",
   "id": "77c3acdf-c270-46b4-a620-e02e59b63f76",
   "metadata": {},
   "source": [
    "8.  Sort the list in ascending order using method\n",
    "\n",
    "nums = [4, 1, 3, 2]"
   ]
  },
  {
   "cell_type": "markdown",
   "id": "471d609a-55e8-4227-a8fd-d6ef73628bf5",
   "metadata": {},
   "source": [
    "9. A customer orders several food items. Add the items to a list and then:\n",
    "\n",
    "order = [\"burger\", \"fries\", \"coke\"]\n",
    "\n",
    "- Add a new item \"ice cream\" using append()\n",
    "\n",
    "- Remove an item \"biryani\" using remove()\n",
    "\n",
    "- Show the final order"
   ]
  },
  {
   "cell_type": "markdown",
   "id": "5bdde849-44d9-4ab6-b496-fb125d9b73bd",
   "metadata": {},
   "source": [
    "10. Track passengers on a bus:\n",
    "\n",
    "passengers = [\"Ali\", \"Zara\", \"Ahmed\"]\n",
    "\n",
    "\n",
    "- Insert a new passenger \"Sara\" at position 2\n",
    "\n",
    "- Remove passesnger who got off \"Zara\"\n",
    "\n",
    "- Reverse the order to show who entered first"
   ]
  },
  {
   "cell_type": "code",
   "execution_count": null,
   "id": "5d34ff6f-eb9a-416e-bd4a-9950dc99561b",
   "metadata": {},
   "outputs": [],
   "source": [
    "#ANSWERS:-"
   ]
  },
  {
   "cell_type": "markdown",
   "id": "7f5d5b90-7f50-47dc-8c2b-17f38b7caf73",
   "metadata": {},
   "source": [
    "1- Write a program that takes two numbers (a = 15 , b = 4) and prints their:\n",
    "Sum\n",
    "\n",
    "Difference\n",
    "\n",
    "Product\n",
    "\n",
    "Division\n",
    "\n",
    "Floor Division\n",
    "\n",
    "Modulus"
   ]
  },
  {
   "cell_type": "code",
   "execution_count": 1,
   "id": "255e9536-6e3c-4e20-bc7f-c4a3010b9c66",
   "metadata": {},
   "outputs": [],
   "source": [
    "a= 15\n",
    "b= 4"
   ]
  },
  {
   "cell_type": "code",
   "execution_count": 2,
   "id": "fe0be46b-83d6-482b-8396-ad891b9ba16d",
   "metadata": {},
   "outputs": [
    {
     "name": "stdout",
     "output_type": "stream",
     "text": [
      "11\n"
     ]
    }
   ],
   "source": [
    "print (a-b)"
   ]
  },
  {
   "cell_type": "code",
   "execution_count": 3,
   "id": "eb4406fe-c15b-483e-a783-5b6d0689a13f",
   "metadata": {},
   "outputs": [
    {
     "name": "stdout",
     "output_type": "stream",
     "text": [
      "60\n"
     ]
    }
   ],
   "source": [
    "print (a*b)"
   ]
  },
  {
   "cell_type": "code",
   "execution_count": 4,
   "id": "8a93b54f-b657-4197-ba6e-10325fc1dea0",
   "metadata": {},
   "outputs": [
    {
     "name": "stdout",
     "output_type": "stream",
     "text": [
      "3.75\n"
     ]
    }
   ],
   "source": [
    "print(a/b)"
   ]
  },
  {
   "cell_type": "code",
   "execution_count": 5,
   "id": "6c1d71be-4708-4627-8635-b26b1bc44ac6",
   "metadata": {},
   "outputs": [
    {
     "name": "stdout",
     "output_type": "stream",
     "text": [
      "3\n"
     ]
    }
   ],
   "source": [
    "print(a//b)"
   ]
  },
  {
   "cell_type": "code",
   "execution_count": 6,
   "id": "417bab81-6710-49df-826b-7d6409a215db",
   "metadata": {},
   "outputs": [
    {
     "name": "stdout",
     "output_type": "stream",
     "text": [
      "3\n"
     ]
    }
   ],
   "source": [
    "print(a%b)"
   ]
  },
  {
   "cell_type": "markdown",
   "id": "67ec8573-abd9-4402-b173-bf1cb161d8aa",
   "metadata": {},
   "source": [
    "2 Convert the following: (num1 = 10, num2 = 5.6, num3 = 4.43)\n",
    "Integer to float\n",
    "\n",
    "Float to integer\n",
    "\n",
    "Float to String"
   ]
  },
  {
   "cell_type": "code",
   "execution_count": 7,
   "id": "449f94c0-d031-41bd-b026-d10733602e6f",
   "metadata": {},
   "outputs": [],
   "source": [
    "num1 =10\n",
    "num2 =5.6\n",
    "num3 =4.43"
   ]
  },
  {
   "cell_type": "code",
   "execution_count": 8,
   "id": "cf254d70-b50c-4662-9e68-f24b510ae24b",
   "metadata": {},
   "outputs": [
    {
     "name": "stdout",
     "output_type": "stream",
     "text": [
      "10\n"
     ]
    }
   ],
   "source": [
    "print(num1)"
   ]
  },
  {
   "cell_type": "code",
   "execution_count": 9,
   "id": "1905b09d-0f61-4d16-b7c5-17374062eac6",
   "metadata": {},
   "outputs": [
    {
     "data": {
      "text/plain": [
       "10.0"
      ]
     },
     "execution_count": 9,
     "metadata": {},
     "output_type": "execute_result"
    }
   ],
   "source": [
    "#A) Integer to Float\n",
    "float(10)"
   ]
  },
  {
   "cell_type": "code",
   "execution_count": 10,
   "id": "c3c20c66-a955-419d-b2c0-aca6e2bdb470",
   "metadata": {},
   "outputs": [
    {
     "data": {
      "text/plain": [
       "5"
      ]
     },
     "execution_count": 10,
     "metadata": {},
     "output_type": "execute_result"
    }
   ],
   "source": [
    "#B) Float to Integer\n",
    "int(5.6)"
   ]
  },
  {
   "cell_type": "code",
   "execution_count": 11,
   "id": "ad3d4114-1da7-4f5d-a299-18df04f4aa5b",
   "metadata": {},
   "outputs": [
    {
     "data": {
      "text/plain": [
       "'4.43'"
      ]
     },
     "execution_count": 11,
     "metadata": {},
     "output_type": "execute_result"
    }
   ],
   "source": [
    "#C) Float to String\n",
    "str(4.43)"
   ]
  },
  {
   "cell_type": "markdown",
   "id": "47966adf-a0f3-46a6-bb8d-c5f87e4bb745",
   "metadata": {},
   "source": [
    "3. fruits = [\"apple\", \"banana\", \"cherry\", \"coconut\", \"pineapple\", \"mango\", \"orange\"]\n",
    "\n",
    "Print below using indexing:\n",
    "\n",
    "- The first fruit\n",
    "\n",
    "- The last fruit (negative indexing)\n",
    "\n",
    "- The fourth fruit"
   ]
  },
  {
   "cell_type": "code",
   "execution_count": 12,
   "id": "8e92c79f-c697-46be-8137-fb46c5389fd2",
   "metadata": {},
   "outputs": [],
   "source": [
    "fruits=[\"apple\",\"banana\",\"cherry\",\"coconut\",\"pineapple\",\"mango\",\"orange\"]"
   ]
  },
  {
   "cell_type": "code",
   "execution_count": 13,
   "id": "4f1d48f8-d663-42c5-aad5-e37f50e410a1",
   "metadata": {},
   "outputs": [
    {
     "data": {
      "text/plain": [
       "'apple'"
      ]
     },
     "execution_count": 13,
     "metadata": {},
     "output_type": "execute_result"
    }
   ],
   "source": [
    "fruits[0]"
   ]
  },
  {
   "cell_type": "code",
   "execution_count": 14,
   "id": "6925adb8-fc9a-4798-85ad-e41730553a87",
   "metadata": {},
   "outputs": [
    {
     "data": {
      "text/plain": [
       "'orange'"
      ]
     },
     "execution_count": 14,
     "metadata": {},
     "output_type": "execute_result"
    }
   ],
   "source": [
    "fruits[-1]"
   ]
  },
  {
   "cell_type": "code",
   "execution_count": 15,
   "id": "e6907e20-e9a1-4f0a-a219-e7674424451d",
   "metadata": {},
   "outputs": [
    {
     "data": {
      "text/plain": [
       "'pineapple'"
      ]
     },
     "execution_count": 15,
     "metadata": {},
     "output_type": "execute_result"
    }
   ],
   "source": [
    "fruits[4]"
   ]
  },
  {
   "cell_type": "markdown",
   "id": "f827399e-2204-40c1-8af5-6a5154e24f41",
   "metadata": {},
   "source": [
    "4. List Slicing\n",
    "\n",
    "numbers = [10, 20, 30, 40, 50]\n",
    "\n",
    "Print:\n",
    "\n",
    "- First three elements\n",
    "\n",
    "- Last two elements\n",
    "\n",
    "- Print all elements except the first one\n",
    "\n",
    "- Print all elements except the last one\n",
    "\n",
    "- Print the list in reverse using slicing\n",
    "\n",
    "-  Print every second element"
   ]
  },
  {
   "cell_type": "code",
   "execution_count": 16,
   "id": "4388867f-77b1-4421-aec5-baca811edd1a",
   "metadata": {},
   "outputs": [],
   "source": [
    "numbers=[10,20,30,40,50]"
   ]
  },
  {
   "cell_type": "code",
   "execution_count": 17,
   "id": "46baf393-dd11-4344-99a9-3d98e29e8fc3",
   "metadata": {},
   "outputs": [
    {
     "data": {
      "text/plain": [
       "[10, 20, 30]"
      ]
     },
     "execution_count": 17,
     "metadata": {},
     "output_type": "execute_result"
    }
   ],
   "source": [
    "numbers[0:3]"
   ]
  },
  {
   "cell_type": "code",
   "execution_count": 18,
   "id": "0ce37baf-9f1a-48de-b962-ef37c143abd3",
   "metadata": {},
   "outputs": [
    {
     "data": {
      "text/plain": [
       "[20, 30, 40, 50]"
      ]
     },
     "execution_count": 18,
     "metadata": {},
     "output_type": "execute_result"
    }
   ],
   "source": [
    "numbers[1:]"
   ]
  },
  {
   "cell_type": "code",
   "execution_count": 19,
   "id": "d5602571-646f-4551-b594-7f94d70beb0b",
   "metadata": {},
   "outputs": [
    {
     "data": {
      "text/plain": [
       "[10, 20, 30, 40]"
      ]
     },
     "execution_count": 19,
     "metadata": {},
     "output_type": "execute_result"
    }
   ],
   "source": [
    "numbers[0:4]"
   ]
  },
  {
   "cell_type": "code",
   "execution_count": 20,
   "id": "c58a6843-3705-4fbe-a42b-d93de23fa7b8",
   "metadata": {},
   "outputs": [],
   "source": [
    "numbers.reverse()"
   ]
  },
  {
   "cell_type": "code",
   "execution_count": 21,
   "id": "19ec91b0-b03b-45fa-b5f1-d5da8e88944d",
   "metadata": {},
   "outputs": [
    {
     "data": {
      "text/plain": [
       "[50, 40, 30, 20, 10]"
      ]
     },
     "execution_count": 21,
     "metadata": {},
     "output_type": "execute_result"
    }
   ],
   "source": [
    "numbers"
   ]
  },
  {
   "cell_type": "code",
   "execution_count": 22,
   "id": "b640e58b-33bb-4fb0-9a49-300599824981",
   "metadata": {},
   "outputs": [
    {
     "data": {
      "text/plain": [
       "[40, 20]"
      ]
     },
     "execution_count": 22,
     "metadata": {},
     "output_type": "execute_result"
    }
   ],
   "source": [
    "numbers[1:5:2]"
   ]
  },
  {
   "cell_type": "markdown",
   "id": "127db4ab-c133-4578-9824-0154bb029fdf",
   "metadata": {},
   "source": [
    "5. Add the number 10 to the end of the list using method.\n",
    "nums = [1, 2, 3]"
   ]
  },
  {
   "cell_type": "code",
   "execution_count": 23,
   "id": "26337a20-7a86-4722-a6c1-1ea45e9f2c34",
   "metadata": {},
   "outputs": [],
   "source": [
    "nums= [1,2,3]"
   ]
  },
  {
   "cell_type": "code",
   "execution_count": 24,
   "id": "2b32f7c5-a14c-4610-8c28-ec7f92cf8b40",
   "metadata": {},
   "outputs": [],
   "source": [
    "nums.append(10)"
   ]
  },
  {
   "cell_type": "code",
   "execution_count": 25,
   "id": "fa1d7654-7c90-4494-a1e5-e4b2544d9d20",
   "metadata": {},
   "outputs": [
    {
     "data": {
      "text/plain": [
       "[1, 2, 3, 10]"
      ]
     },
     "execution_count": 25,
     "metadata": {},
     "output_type": "execute_result"
    }
   ],
   "source": [
    "nums"
   ]
  },
  {
   "cell_type": "markdown",
   "id": "0350a858-2288-40b4-a7ad-b4d9d304c3cb",
   "metadata": {},
   "source": [
    "6. Insert the number 99 at index 1 using method.\n",
    "\n",
    "nums = [1, 2, 3]"
   ]
  },
  {
   "cell_type": "code",
   "execution_count": 32,
   "id": "82605c83-beee-41f2-87d9-4c5f2bd8f27a",
   "metadata": {},
   "outputs": [
    {
     "data": {
      "text/plain": [
       "[1, 2, 3]"
      ]
     },
     "execution_count": 32,
     "metadata": {},
     "output_type": "execute_result"
    }
   ],
   "source": [
    "nums"
   ]
  },
  {
   "cell_type": "code",
   "execution_count": 42,
   "id": "2539dfb8-8e8c-459b-96cd-967712ae6e28",
   "metadata": {},
   "outputs": [],
   "source": [
    "nums[0]=99"
   ]
  },
  {
   "cell_type": "code",
   "execution_count": 43,
   "id": "8d7334fb-64bd-473f-8ed3-0ba1ea940da5",
   "metadata": {},
   "outputs": [
    {
     "data": {
      "text/plain": [
       "[99, 2, 3]"
      ]
     },
     "execution_count": 43,
     "metadata": {},
     "output_type": "execute_result"
    }
   ],
   "source": [
    "nums"
   ]
  },
  {
   "cell_type": "markdown",
   "id": "39fb7fd4-14ee-4810-b3fd-b1043849af7a",
   "metadata": {},
   "source": [
    "7.  Add the elements of another list [4, 5] to the original list using method\n",
    "\n",
    "nums = [1, 2, 3]"
   ]
  },
  {
   "cell_type": "code",
   "execution_count": 33,
   "id": "76b59917-45c6-4f07-b5eb-abd0fce56a73",
   "metadata": {},
   "outputs": [],
   "source": [
    "number= [1,2,3]"
   ]
  },
  {
   "cell_type": "code",
   "execution_count": 34,
   "id": "4be95365-4330-490e-8aa9-cfb00586646c",
   "metadata": {},
   "outputs": [
    {
     "data": {
      "text/plain": [
       "[1, 2, 3]"
      ]
     },
     "execution_count": 34,
     "metadata": {},
     "output_type": "execute_result"
    }
   ],
   "source": [
    "number"
   ]
  },
  {
   "cell_type": "code",
   "execution_count": 31,
   "id": "23f5a5c2-e802-46d5-a0b3-77e359f2db56",
   "metadata": {},
   "outputs": [],
   "source": [
    "number2= [4,5]"
   ]
  },
  {
   "cell_type": "code",
   "execution_count": 32,
   "id": "5900739b-b33c-45ec-9b8d-dce8f9438850",
   "metadata": {},
   "outputs": [
    {
     "data": {
      "text/plain": [
       "[4, 5]"
      ]
     },
     "execution_count": 32,
     "metadata": {},
     "output_type": "execute_result"
    }
   ],
   "source": [
    "number2"
   ]
  },
  {
   "cell_type": "code",
   "execution_count": 35,
   "id": "a75d6d5c-bc69-4733-9793-6aa65a9fb276",
   "metadata": {},
   "outputs": [],
   "source": [
    "number.extend(number2)"
   ]
  },
  {
   "cell_type": "code",
   "execution_count": 37,
   "id": "9dc95f60-9322-422c-b337-2a9f06ad5bd0",
   "metadata": {},
   "outputs": [
    {
     "data": {
      "text/plain": [
       "[1, 2, 3, 4, 5]"
      ]
     },
     "execution_count": 37,
     "metadata": {},
     "output_type": "execute_result"
    }
   ],
   "source": [
    "number"
   ]
  },
  {
   "cell_type": "markdown",
   "id": "fd6cb2cd-cb6d-4761-9561-5d9063f7e18c",
   "metadata": {},
   "source": [
    "8.  Sort the list in ascending order using method\n",
    "\n",
    "nums = [4, 1, 3, 2]"
   ]
  },
  {
   "cell_type": "code",
   "execution_count": 38,
   "id": "65e2ab22-4cbd-4576-8bd1-ae3f18f3a5b9",
   "metadata": {},
   "outputs": [],
   "source": [
    "nums= [4,1,3,2]"
   ]
  },
  {
   "cell_type": "code",
   "execution_count": 39,
   "id": "bc48c18f-2aba-4541-99b1-38c25caf47a2",
   "metadata": {},
   "outputs": [
    {
     "data": {
      "text/plain": [
       "[4, 1, 3, 2]"
      ]
     },
     "execution_count": 39,
     "metadata": {},
     "output_type": "execute_result"
    }
   ],
   "source": [
    "nums"
   ]
  },
  {
   "cell_type": "code",
   "execution_count": 40,
   "id": "bfee973e-3db5-4d4f-9679-8c75073af555",
   "metadata": {},
   "outputs": [],
   "source": [
    "nums.sort()"
   ]
  },
  {
   "cell_type": "code",
   "execution_count": 41,
   "id": "20eef7c7-25d3-4f5e-b100-d9a3c41ddca2",
   "metadata": {},
   "outputs": [
    {
     "data": {
      "text/plain": [
       "[1, 2, 3, 4]"
      ]
     },
     "execution_count": 41,
     "metadata": {},
     "output_type": "execute_result"
    }
   ],
   "source": [
    "nums"
   ]
  },
  {
   "cell_type": "markdown",
   "id": "4a56dc26-de79-4ef0-9ed1-5a4129a3d17c",
   "metadata": {},
   "source": [
    "9. A customer orders several food items. Add the items to a list and then:\n",
    "\n",
    "order = [\"biryani\",\"burger\", \"fries\", \"coke\"]\n",
    "\n",
    "- Add a new item \"ice cream\" using append()\n",
    "\n",
    "- Remove an item \"biryani\" using remove()\n",
    "\n",
    "- Show the final order"
   ]
  },
  {
   "cell_type": "code",
   "execution_count": 42,
   "id": "8553e9ff-1bed-40a8-a565-abd208b8f9b4",
   "metadata": {},
   "outputs": [],
   "source": [
    "order= [\"biryani\",\"burger\",\"fries\",\"coke\"]"
   ]
  },
  {
   "cell_type": "code",
   "execution_count": 43,
   "id": "92eba624-5082-4c1e-ad67-7ca28a07ff23",
   "metadata": {},
   "outputs": [
    {
     "data": {
      "text/plain": [
       "['biryani', 'burger', 'fries', 'coke']"
      ]
     },
     "execution_count": 43,
     "metadata": {},
     "output_type": "execute_result"
    }
   ],
   "source": [
    "order"
   ]
  },
  {
   "cell_type": "code",
   "execution_count": 44,
   "id": "20da4461-0a69-4408-ba5f-c4e1413c6d9c",
   "metadata": {},
   "outputs": [],
   "source": [
    "order.append(\"ice cream\")"
   ]
  },
  {
   "cell_type": "code",
   "execution_count": 45,
   "id": "6e99af64-f31b-4ce6-b25a-cb8b1b8502ad",
   "metadata": {},
   "outputs": [
    {
     "data": {
      "text/plain": [
       "['biryani', 'burger', 'fries', 'coke', 'ice cream']"
      ]
     },
     "execution_count": 45,
     "metadata": {},
     "output_type": "execute_result"
    }
   ],
   "source": [
    "order"
   ]
  },
  {
   "cell_type": "code",
   "execution_count": 46,
   "id": "f3ec3073-7a61-4734-8a20-a1d627041779",
   "metadata": {},
   "outputs": [],
   "source": [
    "order.remove(\"biryani\")"
   ]
  },
  {
   "cell_type": "code",
   "execution_count": 47,
   "id": "f00677d2-2949-47b8-b331-98790c8927b6",
   "metadata": {},
   "outputs": [
    {
     "data": {
      "text/plain": [
       "['burger', 'fries', 'coke', 'ice cream']"
      ]
     },
     "execution_count": 47,
     "metadata": {},
     "output_type": "execute_result"
    }
   ],
   "source": [
    "order"
   ]
  },
  {
   "cell_type": "markdown",
   "id": "be09f41a-0242-44f0-825b-8e32dae261be",
   "metadata": {},
   "source": [
    "10. Track passengers on a bus:\n",
    "\n",
    "passengers = [\"Ali\", \"Zara\", \"Ahmed\"]\n",
    "\n",
    "\n",
    "- Insert a new passenger \"Sara\" at position 2\n",
    "\n",
    "- Remove passesnger who got off \"Zara\"\n",
    "\n",
    "- Reverse the order to show who entered first"
   ]
  },
  {
   "cell_type": "code",
   "execution_count": 48,
   "id": "f51d2825-a576-45ce-9d08-eb34837a899d",
   "metadata": {},
   "outputs": [],
   "source": [
    "passengers= [\"Ali\",\"Zara\",\"Ahmed\"]"
   ]
  },
  {
   "cell_type": "code",
   "execution_count": 49,
   "id": "d0b6a1f4-c8ae-45d9-99bc-8b4f8b9a461e",
   "metadata": {},
   "outputs": [
    {
     "data": {
      "text/plain": [
       "['Ali', 'Zara', 'Ahmed']"
      ]
     },
     "execution_count": 49,
     "metadata": {},
     "output_type": "execute_result"
    }
   ],
   "source": [
    "passengers"
   ]
  },
  {
   "cell_type": "code",
   "execution_count": 50,
   "id": "60bfc2ab-2f00-4c06-9fbb-cdf679ff60f4",
   "metadata": {},
   "outputs": [],
   "source": [
    "passengers.append(\"Sara\")"
   ]
  },
  {
   "cell_type": "code",
   "execution_count": 51,
   "id": "5de7eb9c-eaad-46fb-a256-21b7ac43320d",
   "metadata": {},
   "outputs": [
    {
     "data": {
      "text/plain": [
       "['Ali', 'Zara', 'Ahmed', 'Sara']"
      ]
     },
     "execution_count": 51,
     "metadata": {},
     "output_type": "execute_result"
    }
   ],
   "source": [
    "passengers"
   ]
  },
  {
   "cell_type": "code",
   "execution_count": 52,
   "id": "e3fab11f-2928-456e-9dcd-73d40cf46644",
   "metadata": {},
   "outputs": [],
   "source": [
    "passengers.remove(\"Zara\")"
   ]
  },
  {
   "cell_type": "code",
   "execution_count": 53,
   "id": "14c7e189-2585-4a6f-a574-55f4d89f19e0",
   "metadata": {},
   "outputs": [
    {
     "data": {
      "text/plain": [
       "['Ali', 'Ahmed', 'Sara']"
      ]
     },
     "execution_count": 53,
     "metadata": {},
     "output_type": "execute_result"
    }
   ],
   "source": [
    "passengers"
   ]
  },
  {
   "cell_type": "code",
   "execution_count": 54,
   "id": "bad08007-f46b-4a7d-aa4f-9a4684ac50ff",
   "metadata": {},
   "outputs": [],
   "source": [
    "passengers.reverse()"
   ]
  },
  {
   "cell_type": "code",
   "execution_count": 55,
   "id": "efbc152b-09e9-4a5b-8d35-ec1a682bda4f",
   "metadata": {},
   "outputs": [
    {
     "data": {
      "text/plain": [
       "['Sara', 'Ahmed', 'Ali']"
      ]
     },
     "execution_count": 55,
     "metadata": {},
     "output_type": "execute_result"
    }
   ],
   "source": [
    "passengers"
   ]
  },
  {
   "cell_type": "code",
   "execution_count": null,
   "id": "afdb8c21-bedb-41bd-a783-faf1f094b303",
   "metadata": {},
   "outputs": [],
   "source": []
  }
 ],
 "metadata": {
  "kernelspec": {
   "display_name": "Python 3 (ipykernel)",
   "language": "python",
   "name": "python3"
  },
  "language_info": {
   "codemirror_mode": {
    "name": "ipython",
    "version": 3
   },
   "file_extension": ".py",
   "mimetype": "text/x-python",
   "name": "python",
   "nbconvert_exporter": "python",
   "pygments_lexer": "ipython3",
   "version": "3.12.7"
  }
 },
 "nbformat": 4,
 "nbformat_minor": 5
}
